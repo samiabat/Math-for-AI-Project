{
 "cells": [
  {
   "cell_type": "code",
   "execution_count": 129,
   "metadata": {},
   "outputs": [],
   "source": [
    "import numpy as np\n",
    "\n",
    "class RBFN:\n",
    "    def __init__(self, k, lr=0.1, epochs=1000):\n",
    "        self.k = k # number of centroids\n",
    "        self.lr = lr # learning rate for LMS\n",
    "        self.epochs = epochs # number of epochs for LMS\n",
    "        self.centroids = None\n",
    "        self.variances = None\n",
    "        self.weights = None\n",
    "\n",
    "    def k_means_clustering(self, X):\n",
    "        # Initialize k centroids randomly\n",
    "        centroids = X[np.random.choice(X.shape[0], self.k, replace=False)]\n",
    "        prev_centroids = None\n",
    "        \n",
    "        while not np.array_equal(centroids, prev_centroids):\n",
    "            # Assign each data point to the nearest centroid\n",
    "            clusters = []\n",
    "            for j in range(self.k):\n",
    "                clusters.append([])\n",
    "            for x in X:\n",
    "                distances = [np.linalg.norm(x - c) for c in centroids]\n",
    "                nearest_centroid_idx = np.argmin(distances)\n",
    "                clusters[nearest_centroid_idx].append(x)\n",
    "\n",
    "            # Update the centroids to be the mean of each cluster\n",
    "            prev_centroids = centroids.copy()\n",
    "            for j in range(self.k):\n",
    "                if clusters[j]:\n",
    "                    centroids[j] = np.mean(clusters[j], axis=0)\n",
    "        \n",
    "        self.centroids = centroids\n",
    "        self.variances = np.zeros((self.k,1))\n",
    "        for j in range(self.k):\n",
    "            if clusters[j]:\n",
    "                self.variances[j] = np.mean([np.linalg.norm(x - self.centroids[j]) for x in clusters[j]])\n",
    "    \n",
    "    def lms(self, X, y):\n",
    "        # Initialize the weights randomly\n",
    "        self.weights = np.random.randn(self.k)\n",
    "        \n",
    "        for epoch in range(self.epochs):\n",
    "            for i, x in enumerate(X):\n",
    "                # Calculate the RBFN output for the input x\n",
    "                phi = np.exp(-np.sum((x - self.centroids)**2 / (2 * self.variances**2), axis=1))\n",
    "                output = np.dot(phi, self.weights)\n",
    "                \n",
    "                # Calculate the error and update the weights\n",
    "                error = y[i] - output\n",
    "                self.weights += self.lr * error * phi\n",
    "                \n",
    "    def fit(self, X, y):\n",
    "        self.k_means_clustering(X)\n",
    "        self.lms(X, y)\n",
    "        \n",
    "    def predict(self, X):\n",
    "        # Calculate the RBFN output for each input in X\n",
    "        phi = np.exp(-np.sum((X[:, np.newaxis] - self.centroids)**2 / (2 * self.variances**2), axis=2))\n",
    "        output = np.dot(phi, self.weights)\n",
    "        return np.round(output).astype(int)#Round the output to the neareat integer to give us the lables "
   ]
  },
  {
   "cell_type": "code",
   "execution_count": 132,
   "metadata": {},
   "outputs": [
    {
     "name": "stdout",
     "output_type": "stream",
     "text": [
      "Accuracy: 0.9111111111111111\n"
     ]
    }
   ],
   "source": [
    "from sklearn.datasets import load_iris\n",
    "from sklearn.model_selection import train_test_split\n",
    "from sklearn.metrics import accuracy_score\n",
    "\n",
    "# Load the iris dataset\n",
    "iris = load_iris()\n",
    "X = iris.data\n",
    "y = iris.target\n",
    "\n",
    "# Split the dataset into training and testing sets\n",
    "X_train, X_test, y_train, y_test = train_test_split(X, y, test_size=0.3, random_state=42)\n",
    "\n",
    "# Create an RBFN with 10 centroids\n",
    "rbfn = RBFN(k=10)\n",
    "\n",
    "# Train the RBFN on the training data\n",
    "rbfn.fit(X_train, y_train)\n",
    "\n",
    "# Make predictions on the testing data\n",
    "y_pred = rbfn.predict(X_test)\n",
    "\n",
    "# Calculate the accuracy of the predictions\n",
    "accuracy = accuracy_score(y_test, y_pred)\n",
    "print(\"Accuracy:\", accuracy)\n"
   ]
  }
 ],
 "metadata": {
  "kernelspec": {
   "display_name": "base",
   "language": "python",
   "name": "python3"
  },
  "language_info": {
   "codemirror_mode": {
    "name": "ipython",
    "version": 3
   },
   "file_extension": ".py",
   "mimetype": "text/x-python",
   "name": "python",
   "nbconvert_exporter": "python",
   "pygments_lexer": "ipython3",
   "version": "3.9.13"
  },
  "orig_nbformat": 4,
  "vscode": {
   "interpreter": {
    "hash": "b302cdd1e032ee910f5c889c3360c28564c92ad4f326fc3102e39fbe47faee66"
   }
  }
 },
 "nbformat": 4,
 "nbformat_minor": 2
}
